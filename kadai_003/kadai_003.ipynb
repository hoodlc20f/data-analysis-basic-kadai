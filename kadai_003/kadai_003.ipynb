{
  "nbformat": 4,
  "nbformat_minor": 0,
  "metadata": {
    "colab": {
      "provenance": []
    },
    "kernelspec": {
      "name": "python3",
      "display_name": "Python 3"
    },
    "language_info": {
      "name": "python"
    }
  },
  "cells": [
    {
      "cell_type": "code",
      "execution_count": 4,
      "metadata": {
        "colab": {
          "base_uri": "https://localhost:8080/"
        },
        "id": "NK7ammziaSan",
        "outputId": "c603bbc8-2e1e-4f8f-8598-ccf999b6f736"
      },
      "outputs": [
        {
          "output_type": "stream",
          "name": "stdout",
          "text": [
            "[[ 4  5  6  7]\n",
            " [12 17 22 27]\n",
            " [20 29 38 47]]\n",
            "234\n"
          ]
        }
      ],
      "source": [
        "# NumPyをインポートするコードを記述する\n",
        "import numpy as np\n",
        "\n",
        "# AとBの行列を格納する多次元配列のコードを記述する\n",
        "A = np.array([[0, 1], [2, 3], [4, 5]])\n",
        "B = np.array([[0, 1, 2, 3], [4, 5, 6, 7]])\n",
        "\n",
        "# 行列の積の計算をするコードを記述する\n",
        "dot_ab = np.dot(A, B)\n",
        "\n",
        "# Step3.の計算結果を表示するコードを記述する\n",
        "print(dot_ab)\n",
        "\n",
        "# 行列の要素の最大値を求めるコードを記述する\n",
        "sum_ab = np.sum(dot_ab)\n",
        "print(sum_ab)"
      ]
    }
  ]
}