{
  "nbformat": 4,
  "nbformat_minor": 0,
  "metadata": {
    "colab": {
      "provenance": []
    },
    "kernelspec": {
      "name": "python3",
      "display_name": "Python 3"
    },
    "language_info": {
      "name": "python"
    }
  },
  "cells": [
    {
      "cell_type": "code",
      "execution_count": 26,
      "metadata": {
        "colab": {
          "base_uri": "https://localhost:8080/"
        },
        "id": "RPC-3YeK3qNA",
        "outputId": "4b5f7fcb-e77b-46eb-de30-c450d8219987"
      },
      "outputs": [
        {
          "output_type": "stream",
          "name": "stdout",
          "text": [
            "[[ 4  5  6  7]\n",
            " [12 17 22 27]\n",
            " [20 29 38 47]]\n",
            "47\n"
          ]
        }
      ],
      "source": [
        "import numpy as np\n",
        "\n",
        "A = np.array([[0,1], [2,3], [4,5]])\n",
        "B = np.array([[0,1,2,3], [4,5,6,7]])\n",
        "AB = np.dot(A,B)\n",
        "print(AB)\n",
        "print(np.max(AB))"
      ]
    }
  ]
}